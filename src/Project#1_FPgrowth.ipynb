{
 "cells": [
  {
   "cell_type": "code",
   "execution_count": 1,
   "metadata": {},
   "outputs": [],
   "source": [
    "from csv import reader\n",
    "from collections import defaultdict, OrderedDict\n",
    "from itertools import chain, combinations\n",
    "from datetime import datetime"
   ]
  },
  {
   "cell_type": "code",
   "execution_count": 2,
   "metadata": {},
   "outputs": [],
   "source": [
    "class Node:\n",
    "    # node constructor; one head node and its children represents itemsets\n",
    "    def __init__(self, item_name, frequency, parent_node):\n",
    "        self.item_name = item_name\n",
    "        self.frequency = frequency\n",
    "        self.parent = parent_node\n",
    "        self.children = {}\n",
    "        self.next = None\n",
    "\n",
    "    def addFrequency(self, frequency):\n",
    "        self.frequency += frequency"
   ]
  },
  {
   "cell_type": "code",
   "execution_count": 3,
   "metadata": {},
   "outputs": [],
   "source": [
    "# read the input file and create a list of itemset and a frequency list\n",
    "def readFile(fpath):\n",
    "    itemset_list = []\n",
    "    frequency = []\n",
    "\n",
    "    with open(fpath, 'r') as file:\n",
    "        csv_reader = reader(file)\n",
    "        for line in csv_reader:\n",
    "            if line == \"\": continue\n",
    "            if line == \" \": continue\n",
    "            new_line = []\n",
    "            for item in line:\n",
    "                item = item.replace(\" \", \"\") \n",
    "                new_line.append(item)\n",
    "            itemset_list.append(new_line)  \n",
    "            frequency.append(1)\n",
    "            \n",
    "    return itemset_list, frequency"
   ]
  },
  {
   "cell_type": "code",
   "execution_count": 4,
   "metadata": {},
   "outputs": [],
   "source": [
    "def buildFPTree(itemset_list, frequency, min_sup):\n",
    "    header_table = defaultdict(int)\n",
    "    \n",
    "    # create a header table\n",
    "    for index in range(len(itemset_list)):\n",
    "        for item in itemset_list[index]:\n",
    "            header_table[item] += frequency[index]    \n",
    "            \n",
    "    # select items statisfies min_sup\n",
    "    header_table = dict((item, sup) for item, sup in header_table.items() if sup >= min_sup)  \n",
    "    if len(header_table) == 0:\n",
    "        return None, None      \n",
    "    \n",
    "    # header table - {item: [frequency, head node]}\n",
    "    for item in header_table:\n",
    "        header_table[item] = [header_table[item], None]\n",
    "        \n",
    "    # initialize a Null head node\n",
    "    fpTree = Node('None', 1, None)\n",
    "    \n",
    "    # update the FP Tree with item and freqency for each itemset \n",
    "    for index in range(len(itemset_list)):\n",
    "        itemset = []\n",
    "        for item in itemset_list[index]:\n",
    "            if item in header_table:\n",
    "                itemset.append(item)\n",
    "        itemset.sort(key = lambda item: header_table[item][0], reverse = True)\n",
    "        current_node = fpTree\n",
    "        for item in itemset:\n",
    "            # update the main FP tree\n",
    "            current_node = updateFPTree(item, current_node, header_table, frequency[index])\n",
    "            \n",
    "    return fpTree, header_table"
   ]
  },
  {
   "cell_type": "code",
   "execution_count": 5,
   "metadata": {},
   "outputs": [],
   "source": [
    "def updateFPTree(item, node, header_table, frequency):\n",
    "    # if the item exists in the FP Tree, increase its frequency\n",
    "    if item in node.children:\n",
    "        node.children[item].addFrequency(frequency)\n",
    "    # if not, create a new node\n",
    "    else:\n",
    "        new_node = Node(item, frequency, node)\n",
    "        node.children[item] = new_node\n",
    "        # update the header table with new node\n",
    "        updateHeaderTable(item, new_node, header_table)         \n",
    "    \n",
    "    return node.children[item]    "
   ]
  },
  {
   "cell_type": "code",
   "execution_count": 6,
   "metadata": {},
   "outputs": [],
   "source": [
    "def updateHeaderTable(item, node, header_table):\n",
    "    if header_table[item][1] == None:\n",
    "        header_table[item][1] = node\n",
    "    else:\n",
    "        current_node = header_table[item][1]\n",
    "        # reach the last node and then link it to the current node\n",
    "        while current_node.next != None:\n",
    "            current_node = current_node.next\n",
    "        current_node.next = node"
   ]
  },
  {
   "cell_type": "code",
   "execution_count": 7,
   "metadata": {},
   "outputs": [],
   "source": [
    "# generate conditional FP trees\n",
    "def condiFPTree(header_table, min_sup, pre, freq_item_list):\n",
    "    # sort the header table by frequency and create a list\n",
    "    sorted_item_list = []\n",
    "    for item in sorted(list(header_table.items()), key=lambda p:p[1][0]):\n",
    "        sorted_item_list.append(item[0])\n",
    "        \n",
    "    for item in sorted_item_list:\n",
    "        new_freqset = pre.copy()\n",
    "        new_freqset.add(item)\n",
    "        freq_item_list.append(new_freqset)\n",
    "        # get all the paths containing the item\n",
    "        conditional_pattern, frequency = findPath(item, header_table)\n",
    "        # build conditional FP Tree\n",
    "        conditional_tree, new_header_table =  buildFPTree(conditional_pattern, frequency, min_sup) \n",
    "        if new_header_table:\n",
    "            condiFPTree(new_header_table, min_sup, new_freqset, freq_item_list)"
   ]
  },
  {
   "cell_type": "code",
   "execution_count": 8,
   "metadata": {},
   "outputs": [],
   "source": [
    "def findPath(item, header_table):\n",
    "    node = header_table[item][1] \n",
    "    pattern = []\n",
    "    frequency = []\n",
    "    while node:\n",
    "        path = []\n",
    "        # extend the path to the root node\n",
    "        pathToRoot(node,path)  \n",
    "        if len(path) > 1:\n",
    "            pattern.append(path[1:])\n",
    "            frequency.append(node.frequency)\n",
    "        node = node.next  \n",
    "    return pattern, frequency\n",
    "\n",
    "def pathToRoot(node, path):\n",
    "    if node.parent:\n",
    "        path.append(node.item_name)\n",
    "        pathToRoot(node.parent, path)"
   ]
  },
  {
   "cell_type": "code",
   "execution_count": 9,
   "metadata": {},
   "outputs": [],
   "source": [
    "def getSubsets(itemset):  \n",
    "    s = list(itemset)\n",
    "    return chain.from_iterable(combinations(s, r) for r in range(1,len(s)))"
   ]
  },
  {
   "cell_type": "code",
   "execution_count": 10,
   "metadata": {},
   "outputs": [],
   "source": [
    "def getSupport(target_itemset, itemset_list):\n",
    "    count = 0\n",
    "    for itemset in itemset_list:\n",
    "        if(set(target_itemset).issubset(itemset)):\n",
    "            count += 1\n",
    "    return count    "
   ]
  },
  {
   "cell_type": "code",
   "execution_count": 11,
   "metadata": {},
   "outputs": [],
   "source": [
    "def associationRule(freq_item_list, itemset_list, min_conf):\n",
    "    rules = []\n",
    "    for itemset in freq_item_list:\n",
    "        subsets = getSubsets(itemset) # get all the subsets of the itemset   \n",
    "        itemset_sup = getSupport(itemset, itemset_list)\n",
    "        for subset in subsets:\n",
    "            confidence = float(itemset_sup / getSupport(subset, itemset_list))\n",
    "            if confidence >= min_conf:\n",
    "                rules.append([set(subset), set(itemset.difference(subset)), confidence]) # difference = itemset - subset\n",
    "    return rules"
   ]
  },
  {
   "cell_type": "code",
   "execution_count": 14,
   "metadata": {},
   "outputs": [],
   "source": [
    "def fpgrowth(fpath, min_sup, min_conf):    \n",
    "    itemset_list, frequency = readFile(fpath)    \n",
    "    fpTree, header_table = buildFPTree(itemset_list, frequency, min_sup)      \n",
    "    freq_item_list = []\n",
    "    condiFPTree(header_table, min_sup, set(), freq_item_list)\n",
    "    rules = associationRule(freq_item_list, itemset_list, min_conf)\n",
    "    \n",
    "    print(\"freq_item_list\")\n",
    "    for itemset in freq_item_list:\n",
    "        print('itemset: ' + str(itemset))\n",
    "#     print(\"rules\")\n",
    "#     for rule in rules:\n",
    "#         print(str(rule[0]) + ' ⇒ ' + str(rule[1]) + ', conf = ' + str(round(rule[2], 3)))"
   ]
  },
  {
   "cell_type": "code",
   "execution_count": 15,
   "metadata": {},
   "outputs": [
    {
     "name": "stdout",
     "output_type": "stream",
     "text": [
      "freq_item_list\n",
      "itemset: {'Male'}\n",
      "itemset: {'United-States', 'Male'}\n",
      "itemset: {'Private'}\n",
      "itemset: {'White', 'Private'}\n",
      "itemset: {'United-States', 'Private'}\n",
      "itemset: {'<=50K'}\n",
      "itemset: {'White', '<=50K'}\n",
      "itemset: {'United-States', '<=50K'}\n",
      "itemset: {'White'}\n",
      "itemset: {'White', 'United-States'}\n",
      "itemset: {'United-States'}\n",
      "rules\n",
      "{'Male'} ⇒ {'United-States'}, conf = 0.911\n",
      "{'White'} ⇒ {'Private'}, conf = 0.738\n",
      "{'Private'} ⇒ {'White'}, conf = 0.859\n",
      "{'United-States'} ⇒ {'Private'}, conf = 0.732\n",
      "{'Private'} ⇒ {'United-States'}, conf = 0.903\n",
      "{'White'} ⇒ {'<=50K'}, conf = 0.736\n",
      "{'<=50K'} ⇒ {'White'}, conf = 0.843\n",
      "{'United-States'} ⇒ {'<=50K'}, conf = 0.746\n",
      "{'<=50K'} ⇒ {'United-States'}, conf = 0.905\n",
      "{'White'} ⇒ {'United-States'}, conf = 0.934\n",
      "{'United-States'} ⇒ {'White'}, conf = 0.881\n",
      "Running time is 1.078205s\n"
     ]
    }
   ],
   "source": [
    "starting_time = datetime.now()\n",
    "fpgrowth('./adult.csv', 0.6*30162, 0.7)\n",
    "ending_time = datetime.now()\n",
    "running_time = (ending_time - starting_time).total_seconds()\n",
    "print(\"Running time is \" + str(running_time) + \"s\")"
   ]
  },
  {
   "cell_type": "code",
   "execution_count": null,
   "metadata": {},
   "outputs": [],
   "source": []
  },
  {
   "cell_type": "code",
   "execution_count": null,
   "metadata": {},
   "outputs": [],
   "source": []
  }
 ],
 "metadata": {
  "kernelspec": {
   "display_name": "Python 3 (3.8.3)",
   "language": "python",
   "name": "python3-3.8.3"
  },
  "language_info": {
   "codemirror_mode": {
    "name": "ipython",
    "version": 3
   },
   "file_extension": ".py",
   "mimetype": "text/x-python",
   "name": "python",
   "nbconvert_exporter": "python",
   "pygments_lexer": "ipython3",
   "version": "3.8.3"
  }
 },
 "nbformat": 4,
 "nbformat_minor": 2
}
